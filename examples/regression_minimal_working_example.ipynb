{
 "cells": [
  {
   "cell_type": "markdown",
   "metadata": {},
   "source": [
    "# Minimal Regression Example"
   ]
  },
  {
   "cell_type": "code",
   "execution_count": 1,
   "metadata": {},
   "outputs": [],
   "source": [
    "from __future__ import print_function, absolute_import, division, unicode_literals, with_statement\n",
    "from hypopt import GridSearch\n",
    "from sklearn.datasets import load_boston\n",
    "from sklearn.model_selection import train_test_split\n",
    "from sklearn.svm import SVR"
   ]
  },
  {
   "cell_type": "code",
   "execution_count": 2,
   "metadata": {},
   "outputs": [
    {
     "name": "stdout",
     "output_type": "stream",
     "text": [
      "Comparing 10 parameter setting(s) using 4 CPU thread(s) ( 2 job(s) per thread ).\n",
      "\n",
      "Test score comparison (larger is better):\n",
      "Non-optimized Parameters: 0.0175\n",
      "Optimized Parameters: 0.4532\n"
     ]
    }
   ],
   "source": [
    "data = load_boston()\n",
    "\n",
    "# Create test and train sets from one dataset\n",
    "X_train, X_test, y_train, y_test = train_test_split(\n",
    "    data[\"data\"], \n",
    "    data[\"target\"], \n",
    "    test_size = 0.1, \n",
    "    random_state = 0,\n",
    ")\n",
    "\n",
    "# Create a validation set.\n",
    "X_train, X_val, y_train, y_val = train_test_split(\n",
    "    X_train, \n",
    "    y_train, \n",
    "    test_size = 0.1, \n",
    "    random_state = 0,\n",
    ")\n",
    "\n",
    "# List the parameters to search across\n",
    "param_grid = {\n",
    "    'C': [1, 10, 100, 120, 150], \n",
    "    'gamma': [0.001, 0.0001], \n",
    "    'kernel': ['rbf'],\n",
    "}\n",
    "\n",
    "# Grid-search all parameter combinations using a validation set.\n",
    "gs = GridSearch(model = SVR())\n",
    "# Choose the metric to optimize (r2, explained_variance, etc.)\n",
    "# scoring = None will default to optimizing model.score()\n",
    "_ = gs.fit(X_train, y_train, param_grid, X_val, y_val, scoring = 'r2')\n",
    "\n",
    "# Compare with default model without hyperopt\n",
    "default = SVR()\n",
    "_ = default.fit(X_train, y_train)\n",
    "print('\\nTest score comparison (larger is better):')\n",
    "print('Non-optimized Parameters:', round(default.score(X_test, y_test), 4))\n",
    "print('Optimized Parameters:', round(gs.score(X_test, y_test), 4))"
   ]
  }
 ],
 "metadata": {
  "kernelspec": {
   "display_name": "Python 2",
   "language": "python",
   "name": "python2"
  },
  "language_info": {
   "codemirror_mode": {
    "name": "ipython",
    "version": 2
   },
   "file_extension": ".py",
   "mimetype": "text/x-python",
   "name": "python",
   "nbconvert_exporter": "python",
   "pygments_lexer": "ipython2",
   "version": "2.7.13"
  }
 },
 "nbformat": 4,
 "nbformat_minor": 2
}
